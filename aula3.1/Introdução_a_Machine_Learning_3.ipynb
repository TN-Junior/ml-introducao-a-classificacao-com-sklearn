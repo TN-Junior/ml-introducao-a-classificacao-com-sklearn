{
  "cells": [
    {
      "cell_type": "code",
      "execution_count": 3,
      "metadata": {
        "colab": {
          "base_uri": "https://localhost:8080/",
          "height": 205
        },
        "colab_type": "code",
        "id": "d3z5YRL3_TcO",
        "outputId": "57d6265e-e6f4-4e3f-8dfc-8152502e0ce5"
      },
      "outputs": [
        {
          "name": "stdout",
          "output_type": "stream",
          "text": [
            "Requirement already satisfied: seaborn==0.9.0 in c:\\users\\tary.nascimento\\appdata\\local\\packages\\pythonsoftwarefoundation.python.3.11_qbz5n2kfra8p0\\localcache\\local-packages\\python311\\site-packages (0.9.0)\n",
            "Requirement already satisfied: matplotlib>=1.4.3 in c:\\users\\tary.nascimento\\appdata\\local\\packages\\pythonsoftwarefoundation.python.3.11_qbz5n2kfra8p0\\localcache\\local-packages\\python311\\site-packages (from seaborn==0.9.0) (3.9.1.post1)\n",
            "Requirement already satisfied: numpy>=1.9.3 in c:\\users\\tary.nascimento\\appdata\\local\\packages\\pythonsoftwarefoundation.python.3.11_qbz5n2kfra8p0\\localcache\\local-packages\\python311\\site-packages (from seaborn==0.9.0) (2.0.1)\n",
            "Requirement already satisfied: pandas>=0.15.2 in c:\\users\\tary.nascimento\\appdata\\local\\packages\\pythonsoftwarefoundation.python.3.11_qbz5n2kfra8p0\\localcache\\local-packages\\python311\\site-packages (from seaborn==0.9.0) (1.5.0)\n",
            "Requirement already satisfied: scipy>=0.14.0 in c:\\users\\tary.nascimento\\appdata\\local\\packages\\pythonsoftwarefoundation.python.3.11_qbz5n2kfra8p0\\localcache\\local-packages\\python311\\site-packages (from seaborn==0.9.0) (1.13.1)\n",
            "Requirement already satisfied: contourpy>=1.0.1 in c:\\users\\tary.nascimento\\appdata\\local\\packages\\pythonsoftwarefoundation.python.3.11_qbz5n2kfra8p0\\localcache\\local-packages\\python311\\site-packages (from matplotlib>=1.4.3->seaborn==0.9.0) (1.2.1)\n",
            "Requirement already satisfied: cycler>=0.10 in c:\\users\\tary.nascimento\\appdata\\local\\packages\\pythonsoftwarefoundation.python.3.11_qbz5n2kfra8p0\\localcache\\local-packages\\python311\\site-packages (from matplotlib>=1.4.3->seaborn==0.9.0) (0.12.1)\n",
            "Requirement already satisfied: fonttools>=4.22.0 in c:\\users\\tary.nascimento\\appdata\\local\\packages\\pythonsoftwarefoundation.python.3.11_qbz5n2kfra8p0\\localcache\\local-packages\\python311\\site-packages (from matplotlib>=1.4.3->seaborn==0.9.0) (4.53.0)\n",
            "Requirement already satisfied: kiwisolver>=1.3.1 in c:\\users\\tary.nascimento\\appdata\\local\\packages\\pythonsoftwarefoundation.python.3.11_qbz5n2kfra8p0\\localcache\\local-packages\\python311\\site-packages (from matplotlib>=1.4.3->seaborn==0.9.0) (1.4.5)\n",
            "Requirement already satisfied: packaging>=20.0 in c:\\users\\tary.nascimento\\appdata\\local\\packages\\pythonsoftwarefoundation.python.3.11_qbz5n2kfra8p0\\localcache\\local-packages\\python311\\site-packages (from matplotlib>=1.4.3->seaborn==0.9.0) (23.2)\n",
            "Requirement already satisfied: pillow>=8 in c:\\users\\tary.nascimento\\appdata\\local\\packages\\pythonsoftwarefoundation.python.3.11_qbz5n2kfra8p0\\localcache\\local-packages\\python311\\site-packages (from matplotlib>=1.4.3->seaborn==0.9.0) (10.1.0)\n",
            "Requirement already satisfied: pyparsing>=2.3.1 in c:\\users\\tary.nascimento\\appdata\\local\\packages\\pythonsoftwarefoundation.python.3.11_qbz5n2kfra8p0\\localcache\\local-packages\\python311\\site-packages (from matplotlib>=1.4.3->seaborn==0.9.0) (3.1.1)\n",
            "Requirement already satisfied: python-dateutil>=2.7 in c:\\users\\tary.nascimento\\appdata\\local\\packages\\pythonsoftwarefoundation.python.3.11_qbz5n2kfra8p0\\localcache\\local-packages\\python311\\site-packages (from matplotlib>=1.4.3->seaborn==0.9.0) (2.8.2)\n",
            "Requirement already satisfied: pytz>=2020.1 in c:\\users\\tary.nascimento\\appdata\\local\\packages\\pythonsoftwarefoundation.python.3.11_qbz5n2kfra8p0\\localcache\\local-packages\\python311\\site-packages (from pandas>=0.15.2->seaborn==0.9.0) (2024.1)\n",
            "Requirement already satisfied: six>=1.5 in c:\\users\\tary.nascimento\\appdata\\local\\packages\\pythonsoftwarefoundation.python.3.11_qbz5n2kfra8p0\\localcache\\local-packages\\python311\\site-packages (from python-dateutil>=2.7->matplotlib>=1.4.3->seaborn==0.9.0) (1.16.0)\n"
          ]
        },
        {
          "name": "stderr",
          "output_type": "stream",
          "text": [
            "\n",
            "[notice] A new release of pip is available: 24.0 -> 24.2\n",
            "[notice] To update, run: C:\\Users\\tary.nascimento\\AppData\\Local\\Microsoft\\WindowsApps\\PythonSoftwareFoundation.Python.3.11_qbz5n2kfra8p0\\python.exe -m pip install --upgrade pip\n"
          ]
        },
        {
          "name": "stdout",
          "output_type": "stream",
          "text": [
            "Requirement already satisfied: pandas==1.5.0 in c:\\users\\tary.nascimento\\appdata\\local\\packages\\pythonsoftwarefoundation.python.3.11_qbz5n2kfra8p0\\localcache\\local-packages\\python311\\site-packages (1.5.0)\n",
            "Collecting numpy==1.21.0\n",
            "  Using cached numpy-1.21.0.zip (10.3 MB)\n",
            "  Installing build dependencies: started\n",
            "  Installing build dependencies: finished with status 'done'\n",
            "  Getting requirements to build wheel: started\n",
            "  Getting requirements to build wheel: finished with status 'done'\n",
            "  Preparing metadata (pyproject.toml): started\n",
            "  Preparing metadata (pyproject.toml): finished with status 'done'\n",
            "Requirement already satisfied: python-dateutil>=2.8.1 in c:\\users\\tary.nascimento\\appdata\\local\\packages\\pythonsoftwarefoundation.python.3.11_qbz5n2kfra8p0\\localcache\\local-packages\\python311\\site-packages (from pandas==1.5.0) (2.8.2)\n",
            "Requirement already satisfied: pytz>=2020.1 in c:\\users\\tary.nascimento\\appdata\\local\\packages\\pythonsoftwarefoundation.python.3.11_qbz5n2kfra8p0\\localcache\\local-packages\\python311\\site-packages (from pandas==1.5.0) (2024.1)\n",
            "Requirement already satisfied: six>=1.5 in c:\\users\\tary.nascimento\\appdata\\local\\packages\\pythonsoftwarefoundation.python.3.11_qbz5n2kfra8p0\\localcache\\local-packages\\python311\\site-packages (from python-dateutil>=2.8.1->pandas==1.5.0) (1.16.0)\n",
            "Building wheels for collected packages: numpy\n",
            "  Building wheel for numpy (pyproject.toml): started\n",
            "  Building wheel for numpy (pyproject.toml): finished with status 'error'\n",
            "Failed to build numpy\n"
          ]
        },
        {
          "name": "stderr",
          "output_type": "stream",
          "text": [
            "  error: subprocess-exited-with-error\n",
            "  \n",
            "  × Building wheel for numpy (pyproject.toml) did not run successfully.\n",
            "  │ exit code: 1\n",
            "  ╰─> [206 lines of output]\n",
            "      setup.py:63: RuntimeWarning: NumPy 1.21.0 may not yet support Python 3.11.\n",
            "        warnings.warn(\n",
            "      Running from numpy source directory.\n",
            "      Cythonizing sources\n",
            "      Processing numpy/random\\_bounded_integers.pxd.in\n",
            "      Processing numpy/random\\bit_generator.pyx\n",
            "      Processing numpy/random\\mtrand.pyx\n",
            "      Processing numpy/random\\_bounded_integers.pyx.in\n",
            "      Processing numpy/random\\_common.pyx\n",
            "      Processing numpy/random\\_generator.pyx\n",
            "      Processing numpy/random\\_mt19937.pyx\n",
            "      Processing numpy/random\\_pcg64.pyx\n",
            "      Processing numpy/random\\_philox.pyx\n",
            "      Processing numpy/random\\_sfc64.pyx\n",
            "      blas_opt_info:\n",
            "      blas_mkl_info:\n",
            "      No module named 'numpy.distutils._msvccompiler' in numpy.distutils; trying from distutils\n",
            "      customize MSVCCompiler\n",
            "        libraries mkl_rt not found in ['C:\\\\Program Files\\\\WindowsApps\\\\PythonSoftwareFoundation.Python.3.11_3.11.2544.0_x64__qbz5n2kfra8p0\\\\lib', 'C:\\\\', 'C:\\\\Program Files\\\\WindowsApps\\\\PythonSoftwareFoundation.Python.3.11_3.11.2544.0_x64__qbz5n2kfra8p0\\\\libs']\n",
            "        NOT AVAILABLE\n",
            "      \n",
            "      blis_info:\n",
            "        libraries blis not found in ['C:\\\\Program Files\\\\WindowsApps\\\\PythonSoftwareFoundation.Python.3.11_3.11.2544.0_x64__qbz5n2kfra8p0\\\\lib', 'C:\\\\', 'C:\\\\Program Files\\\\WindowsApps\\\\PythonSoftwareFoundation.Python.3.11_3.11.2544.0_x64__qbz5n2kfra8p0\\\\libs']\n",
            "        NOT AVAILABLE\n",
            "      \n",
            "      openblas_info:\n",
            "        libraries openblas not found in ['C:\\\\Program Files\\\\WindowsApps\\\\PythonSoftwareFoundation.Python.3.11_3.11.2544.0_x64__qbz5n2kfra8p0\\\\lib', 'C:\\\\', 'C:\\\\Program Files\\\\WindowsApps\\\\PythonSoftwareFoundation.Python.3.11_3.11.2544.0_x64__qbz5n2kfra8p0\\\\libs']\n",
            "      get_default_fcompiler: matching types: '['gnu', 'intelv', 'absoft', 'compaqv', 'intelev', 'gnu95', 'g95', 'intelvem', 'intelem', 'flang']'\n",
            "      customize GnuFCompiler\n",
            "      Could not locate executable g77\n",
            "      Could not locate executable f77\n",
            "      customize IntelVisualFCompiler\n",
            "      Could not locate executable ifort\n",
            "      Could not locate executable ifl\n",
            "      customize AbsoftFCompiler\n",
            "      Could not locate executable f90\n",
            "      customize CompaqVisualFCompiler\n",
            "      Could not locate executable DF\n",
            "      customize IntelItaniumVisualFCompiler\n",
            "      Could not locate executable efl\n",
            "      customize Gnu95FCompiler\n",
            "      Could not locate executable gfortran\n",
            "      Could not locate executable f95\n",
            "      customize G95FCompiler\n",
            "      Could not locate executable g95\n",
            "      customize IntelEM64VisualFCompiler\n",
            "      customize IntelEM64TFCompiler\n",
            "      Could not locate executable efort\n",
            "      Could not locate executable efc\n",
            "      customize PGroupFlangCompiler\n",
            "      Could not locate executable flang\n",
            "      don't know how to compile Fortran code on platform 'nt'\n",
            "        NOT AVAILABLE\n",
            "      \n",
            "      accelerate_info:\n",
            "        NOT AVAILABLE\n",
            "      \n",
            "      atlas_3_10_blas_threads_info:\n",
            "      Setting PTATLAS=ATLAS\n",
            "        libraries tatlas not found in ['C:\\\\Program Files\\\\WindowsApps\\\\PythonSoftwareFoundation.Python.3.11_3.11.2544.0_x64__qbz5n2kfra8p0\\\\lib', 'C:\\\\', 'C:\\\\Program Files\\\\WindowsApps\\\\PythonSoftwareFoundation.Python.3.11_3.11.2544.0_x64__qbz5n2kfra8p0\\\\libs']\n",
            "        NOT AVAILABLE\n",
            "      \n",
            "      atlas_3_10_blas_info:\n",
            "        libraries satlas not found in ['C:\\\\Program Files\\\\WindowsApps\\\\PythonSoftwareFoundation.Python.3.11_3.11.2544.0_x64__qbz5n2kfra8p0\\\\lib', 'C:\\\\', 'C:\\\\Program Files\\\\WindowsApps\\\\PythonSoftwareFoundation.Python.3.11_3.11.2544.0_x64__qbz5n2kfra8p0\\\\libs']\n",
            "        NOT AVAILABLE\n",
            "      \n",
            "      atlas_blas_threads_info:\n",
            "      Setting PTATLAS=ATLAS\n",
            "        libraries ptf77blas,ptcblas,atlas not found in ['C:\\\\Program Files\\\\WindowsApps\\\\PythonSoftwareFoundation.Python.3.11_3.11.2544.0_x64__qbz5n2kfra8p0\\\\lib', 'C:\\\\', 'C:\\\\Program Files\\\\WindowsApps\\\\PythonSoftwareFoundation.Python.3.11_3.11.2544.0_x64__qbz5n2kfra8p0\\\\libs']\n",
            "        NOT AVAILABLE\n",
            "      \n",
            "      atlas_blas_info:\n",
            "        libraries f77blas,cblas,atlas not found in ['C:\\\\Program Files\\\\WindowsApps\\\\PythonSoftwareFoundation.Python.3.11_3.11.2544.0_x64__qbz5n2kfra8p0\\\\lib', 'C:\\\\', 'C:\\\\Program Files\\\\WindowsApps\\\\PythonSoftwareFoundation.Python.3.11_3.11.2544.0_x64__qbz5n2kfra8p0\\\\libs']\n",
            "        NOT AVAILABLE\n",
            "      \n",
            "      C:\\Users\\tary.nascimento\\AppData\\Local\\Temp\\pip-install-wg8p6ntu\\numpy_84a8ff02ad6540d490429711bd392377\\numpy\\distutils\\system_info.py:2026: UserWarning:\n",
            "          Optimized (vendor) Blas libraries are not found.\n",
            "          Falls back to netlib Blas library which has worse performance.\n",
            "          A better performance should be easily gained by switching\n",
            "          Blas library.\n",
            "        if self._calc_info(blas):\n",
            "      blas_info:\n",
            "        libraries blas not found in ['C:\\\\Program Files\\\\WindowsApps\\\\PythonSoftwareFoundation.Python.3.11_3.11.2544.0_x64__qbz5n2kfra8p0\\\\lib', 'C:\\\\', 'C:\\\\Program Files\\\\WindowsApps\\\\PythonSoftwareFoundation.Python.3.11_3.11.2544.0_x64__qbz5n2kfra8p0\\\\libs']\n",
            "        NOT AVAILABLE\n",
            "      \n",
            "      C:\\Users\\tary.nascimento\\AppData\\Local\\Temp\\pip-install-wg8p6ntu\\numpy_84a8ff02ad6540d490429711bd392377\\numpy\\distutils\\system_info.py:2026: UserWarning:\n",
            "          Blas (http://www.netlib.org/blas/) libraries not found.\n",
            "          Directories to search for the libraries can be specified in the\n",
            "          numpy/distutils/site.cfg file (section [blas]) or by setting\n",
            "          the BLAS environment variable.\n",
            "        if self._calc_info(blas):\n",
            "      blas_src_info:\n",
            "        NOT AVAILABLE\n",
            "      \n",
            "      C:\\Users\\tary.nascimento\\AppData\\Local\\Temp\\pip-install-wg8p6ntu\\numpy_84a8ff02ad6540d490429711bd392377\\numpy\\distutils\\system_info.py:2026: UserWarning:\n",
            "          Blas (http://www.netlib.org/blas/) sources not found.\n",
            "          Directories to search for the sources can be specified in the\n",
            "          numpy/distutils/site.cfg file (section [blas_src]) or by setting\n",
            "          the BLAS_SRC environment variable.\n",
            "        if self._calc_info(blas):\n",
            "        NOT AVAILABLE\n",
            "      \n",
            "      non-existing path in 'numpy\\\\distutils': 'site.cfg'\n",
            "      lapack_opt_info:\n",
            "      lapack_mkl_info:\n",
            "        libraries mkl_rt not found in ['C:\\\\Program Files\\\\WindowsApps\\\\PythonSoftwareFoundation.Python.3.11_3.11.2544.0_x64__qbz5n2kfra8p0\\\\lib', 'C:\\\\', 'C:\\\\Program Files\\\\WindowsApps\\\\PythonSoftwareFoundation.Python.3.11_3.11.2544.0_x64__qbz5n2kfra8p0\\\\libs']\n",
            "        NOT AVAILABLE\n",
            "      \n",
            "      openblas_lapack_info:\n",
            "        libraries openblas not found in ['C:\\\\Program Files\\\\WindowsApps\\\\PythonSoftwareFoundation.Python.3.11_3.11.2544.0_x64__qbz5n2kfra8p0\\\\lib', 'C:\\\\', 'C:\\\\Program Files\\\\WindowsApps\\\\PythonSoftwareFoundation.Python.3.11_3.11.2544.0_x64__qbz5n2kfra8p0\\\\libs']\n",
            "        NOT AVAILABLE\n",
            "      \n",
            "      openblas_clapack_info:\n",
            "        libraries openblas,lapack not found in ['C:\\\\Program Files\\\\WindowsApps\\\\PythonSoftwareFoundation.Python.3.11_3.11.2544.0_x64__qbz5n2kfra8p0\\\\lib', 'C:\\\\', 'C:\\\\Program Files\\\\WindowsApps\\\\PythonSoftwareFoundation.Python.3.11_3.11.2544.0_x64__qbz5n2kfra8p0\\\\libs']\n",
            "        NOT AVAILABLE\n",
            "      \n",
            "      flame_info:\n",
            "        libraries flame not found in ['C:\\\\Program Files\\\\WindowsApps\\\\PythonSoftwareFoundation.Python.3.11_3.11.2544.0_x64__qbz5n2kfra8p0\\\\lib', 'C:\\\\', 'C:\\\\Program Files\\\\WindowsApps\\\\PythonSoftwareFoundation.Python.3.11_3.11.2544.0_x64__qbz5n2kfra8p0\\\\libs']\n",
            "        NOT AVAILABLE\n",
            "      \n",
            "      atlas_3_10_threads_info:\n",
            "      Setting PTATLAS=ATLAS\n",
            "        libraries lapack_atlas not found in C:\\Program Files\\WindowsApps\\PythonSoftwareFoundation.Python.3.11_3.11.2544.0_x64__qbz5n2kfra8p0\\lib\n",
            "        libraries tatlas,tatlas not found in C:\\Program Files\\WindowsApps\\PythonSoftwareFoundation.Python.3.11_3.11.2544.0_x64__qbz5n2kfra8p0\\lib\n",
            "        libraries lapack_atlas not found in C:\\\n",
            "        libraries tatlas,tatlas not found in C:\\\n",
            "        libraries lapack_atlas not found in C:\\Program Files\\WindowsApps\\PythonSoftwareFoundation.Python.3.11_3.11.2544.0_x64__qbz5n2kfra8p0\\libs\n",
            "        libraries tatlas,tatlas not found in C:\\Program Files\\WindowsApps\\PythonSoftwareFoundation.Python.3.11_3.11.2544.0_x64__qbz5n2kfra8p0\\libs\n",
            "      <class 'numpy.distutils.system_info.atlas_3_10_threads_info'>\n",
            "        NOT AVAILABLE\n",
            "      \n",
            "      atlas_3_10_info:\n",
            "        libraries lapack_atlas not found in C:\\Program Files\\WindowsApps\\PythonSoftwareFoundation.Python.3.11_3.11.2544.0_x64__qbz5n2kfra8p0\\lib\n",
            "        libraries satlas,satlas not found in C:\\Program Files\\WindowsApps\\PythonSoftwareFoundation.Python.3.11_3.11.2544.0_x64__qbz5n2kfra8p0\\lib\n",
            "        libraries lapack_atlas not found in C:\\\n",
            "        libraries satlas,satlas not found in C:\\\n",
            "        libraries lapack_atlas not found in C:\\Program Files\\WindowsApps\\PythonSoftwareFoundation.Python.3.11_3.11.2544.0_x64__qbz5n2kfra8p0\\libs\n",
            "        libraries satlas,satlas not found in C:\\Program Files\\WindowsApps\\PythonSoftwareFoundation.Python.3.11_3.11.2544.0_x64__qbz5n2kfra8p0\\libs\n",
            "      <class 'numpy.distutils.system_info.atlas_3_10_info'>\n",
            "        NOT AVAILABLE\n",
            "      \n",
            "      atlas_threads_info:\n",
            "      Setting PTATLAS=ATLAS\n",
            "        libraries lapack_atlas not found in C:\\Program Files\\WindowsApps\\PythonSoftwareFoundation.Python.3.11_3.11.2544.0_x64__qbz5n2kfra8p0\\lib\n",
            "        libraries ptf77blas,ptcblas,atlas not found in C:\\Program Files\\WindowsApps\\PythonSoftwareFoundation.Python.3.11_3.11.2544.0_x64__qbz5n2kfra8p0\\lib\n",
            "        libraries lapack_atlas not found in C:\\\n",
            "        libraries ptf77blas,ptcblas,atlas not found in C:\\\n",
            "        libraries lapack_atlas not found in C:\\Program Files\\WindowsApps\\PythonSoftwareFoundation.Python.3.11_3.11.2544.0_x64__qbz5n2kfra8p0\\libs\n",
            "        libraries ptf77blas,ptcblas,atlas not found in C:\\Program Files\\WindowsApps\\PythonSoftwareFoundation.Python.3.11_3.11.2544.0_x64__qbz5n2kfra8p0\\libs\n",
            "      <class 'numpy.distutils.system_info.atlas_threads_info'>\n",
            "        NOT AVAILABLE\n",
            "      \n",
            "      atlas_info:\n",
            "        libraries lapack_atlas not found in C:\\Program Files\\WindowsApps\\PythonSoftwareFoundation.Python.3.11_3.11.2544.0_x64__qbz5n2kfra8p0\\lib\n",
            "        libraries f77blas,cblas,atlas not found in C:\\Program Files\\WindowsApps\\PythonSoftwareFoundation.Python.3.11_3.11.2544.0_x64__qbz5n2kfra8p0\\lib\n",
            "        libraries lapack_atlas not found in C:\\\n",
            "        libraries f77blas,cblas,atlas not found in C:\\\n",
            "        libraries lapack_atlas not found in C:\\Program Files\\WindowsApps\\PythonSoftwareFoundation.Python.3.11_3.11.2544.0_x64__qbz5n2kfra8p0\\libs\n",
            "        libraries f77blas,cblas,atlas not found in C:\\Program Files\\WindowsApps\\PythonSoftwareFoundation.Python.3.11_3.11.2544.0_x64__qbz5n2kfra8p0\\libs\n",
            "      <class 'numpy.distutils.system_info.atlas_info'>\n",
            "        NOT AVAILABLE\n",
            "      \n",
            "      lapack_info:\n",
            "        libraries lapack not found in ['C:\\\\Program Files\\\\WindowsApps\\\\PythonSoftwareFoundation.Python.3.11_3.11.2544.0_x64__qbz5n2kfra8p0\\\\lib', 'C:\\\\', 'C:\\\\Program Files\\\\WindowsApps\\\\PythonSoftwareFoundation.Python.3.11_3.11.2544.0_x64__qbz5n2kfra8p0\\\\libs']\n",
            "        NOT AVAILABLE\n",
            "      \n",
            "      C:\\Users\\tary.nascimento\\AppData\\Local\\Temp\\pip-install-wg8p6ntu\\numpy_84a8ff02ad6540d490429711bd392377\\numpy\\distutils\\system_info.py:1858: UserWarning:\n",
            "          Lapack (http://www.netlib.org/lapack/) libraries not found.\n",
            "          Directories to search for the libraries can be specified in the\n",
            "          numpy/distutils/site.cfg file (section [lapack]) or by setting\n",
            "          the LAPACK environment variable.\n",
            "        return getattr(self, '_calc_info_{}'.format(name))()\n",
            "      lapack_src_info:\n",
            "        NOT AVAILABLE\n",
            "      \n",
            "      C:\\Users\\tary.nascimento\\AppData\\Local\\Temp\\pip-install-wg8p6ntu\\numpy_84a8ff02ad6540d490429711bd392377\\numpy\\distutils\\system_info.py:1858: UserWarning:\n",
            "          Lapack (http://www.netlib.org/lapack/) sources not found.\n",
            "          Directories to search for the sources can be specified in the\n",
            "          numpy/distutils/site.cfg file (section [lapack_src]) or by setting\n",
            "          the LAPACK_SRC environment variable.\n",
            "        return getattr(self, '_calc_info_{}'.format(name))()\n",
            "        NOT AVAILABLE\n",
            "      \n",
            "      numpy_linalg_lapack_lite:\n",
            "        FOUND:\n",
            "          language = c\n",
            "          define_macros = [('HAVE_BLAS_ILP64', None), ('BLAS_SYMBOL_SUFFIX', '64_')]\n",
            "      \n",
            "      Warning: attempted relative import with no known parent package\n",
            "      C:\\Users\\tary.nascimento\\AppData\\Local\\Temp\\pip-build-env-xposb_mp\\overlay\\Lib\\site-packages\\setuptools\\_distutils\\dist.py:275: UserWarning: Unknown distribution option: 'define_macros'\n",
            "        warnings.warn(msg)\n",
            "      running bdist_wheel\n",
            "      running build\n",
            "      running config_cc\n",
            "      unifing config_cc, config, build_clib, build_ext, build commands --compiler options\n",
            "      running config_fc\n",
            "      unifing config_fc, config, build_clib, build_ext, build commands --fcompiler options\n",
            "      running build_src\n",
            "      build_src\n",
            "      building py_modules sources\n",
            "      creating build\n",
            "      creating build\\src.win-amd64-3.11\n",
            "      creating build\\src.win-amd64-3.11\\numpy\n",
            "      creating build\\src.win-amd64-3.11\\numpy\\distutils\n",
            "      building library \"npymath\" sources\n",
            "      error: Microsoft Visual C++ 14.0 is required. Get it with \"Build Tools for Visual Studio\": https://visualstudio.microsoft.com/downloads/\n",
            "      [end of output]\n",
            "  \n",
            "  note: This error originates from a subprocess, and is likely not a problem with pip.\n",
            "  ERROR: Failed building wheel for numpy\n",
            "ERROR: Could not build wheels for numpy, which is required to install pyproject.toml-based projects\n",
            "\n",
            "[notice] A new release of pip is available: 24.0 -> 24.2\n",
            "[notice] To update, run: C:\\Users\\tary.nascimento\\AppData\\Local\\Microsoft\\WindowsApps\\PythonSoftwareFoundation.Python.3.11_qbz5n2kfra8p0\\python.exe -m pip install --upgrade pip\n"
          ]
        }
      ],
      "source": [
        "!pip install seaborn==0.9.0"
      ]
    },
    {
      "cell_type": "code",
      "execution_count": 4,
      "metadata": {
        "colab": {
          "base_uri": "https://localhost:8080/",
          "height": 195
        },
        "colab_type": "code",
        "id": "9mjtPqpf90vH",
        "outputId": "ca5aa548-03a4-45bb-9b8b-24decf7dd453"
      },
      "outputs": [
        {
          "ename": "ValueError",
          "evalue": "numpy.dtype size changed, may indicate binary incompatibility. Expected 96 from C header, got 88 from PyObject",
          "output_type": "error",
          "traceback": [
            "\u001b[1;31m---------------------------------------------------------------------------\u001b[0m",
            "\u001b[1;31mValueError\u001b[0m                                Traceback (most recent call last)",
            "Input \u001b[1;32mIn [4]\u001b[0m, in \u001b[0;36m<cell line: 0>\u001b[1;34m()\u001b[0m\n\u001b[1;32m----> 1\u001b[0m \u001b[38;5;28;01mimport\u001b[39;00m \u001b[38;5;21;01mpandas\u001b[39;00m \u001b[38;5;28;01mas\u001b[39;00m \u001b[38;5;21;01mpd\u001b[39;00m\n\u001b[0;32m      3\u001b[0m uri \u001b[38;5;241m=\u001b[39m \u001b[38;5;124m\"\u001b[39m\u001b[38;5;124mhttps://gist.githubusercontent.com/guilhermesilveira/1b7d5475863c15f484ac495bd70975cf/raw/16aff7a0aee67e7c100a2a48b676a2d2d142f646/projects.csv\u001b[39m\u001b[38;5;124m\"\u001b[39m\n\u001b[0;32m      4\u001b[0m dados \u001b[38;5;241m=\u001b[39m pd\u001b[38;5;241m.\u001b[39mread_csv(uri)\n",
            "File \u001b[1;32m~\\AppData\\Local\\Packages\\PythonSoftwareFoundation.Python.3.11_qbz5n2kfra8p0\\LocalCache\\local-packages\\Python311\\site-packages\\pandas\\__init__.py:22\u001b[0m, in \u001b[0;36m<module>\u001b[1;34m\u001b[0m\n\u001b[0;32m     19\u001b[0m \u001b[38;5;28;01mdel\u001b[39;00m _hard_dependencies, _dependency, _missing_dependencies\n\u001b[0;32m     21\u001b[0m \u001b[38;5;66;03m# numpy compat\u001b[39;00m\n\u001b[1;32m---> 22\u001b[0m \u001b[38;5;28;01mfrom\u001b[39;00m \u001b[38;5;21;01mpandas\u001b[39;00m\u001b[38;5;21;01m.\u001b[39;00m\u001b[38;5;21;01mcompat\u001b[39;00m \u001b[38;5;28;01mimport\u001b[39;00m is_numpy_dev \u001b[38;5;28;01mas\u001b[39;00m _is_numpy_dev  \u001b[38;5;66;03m# pyright: ignore # noqa:F401\u001b[39;00m\n\u001b[0;32m     24\u001b[0m \u001b[38;5;28;01mtry\u001b[39;00m:\n\u001b[0;32m     25\u001b[0m     \u001b[38;5;28;01mfrom\u001b[39;00m \u001b[38;5;21;01mpandas\u001b[39;00m\u001b[38;5;21;01m.\u001b[39;00m\u001b[38;5;21;01m_libs\u001b[39;00m \u001b[38;5;28;01mimport\u001b[39;00m hashtable \u001b[38;5;28;01mas\u001b[39;00m _hashtable, lib \u001b[38;5;28;01mas\u001b[39;00m _lib, tslib \u001b[38;5;28;01mas\u001b[39;00m _tslib\n",
            "File \u001b[1;32m~\\AppData\\Local\\Packages\\PythonSoftwareFoundation.Python.3.11_qbz5n2kfra8p0\\LocalCache\\local-packages\\Python311\\site-packages\\pandas\\compat\\__init__.py:18\u001b[0m, in \u001b[0;36m<module>\u001b[1;34m\u001b[0m\n\u001b[0;32m     15\u001b[0m \u001b[38;5;28;01mfrom\u001b[39;00m \u001b[38;5;21;01mtyping\u001b[39;00m \u001b[38;5;28;01mimport\u001b[39;00m TYPE_CHECKING\n\u001b[0;32m     17\u001b[0m \u001b[38;5;28;01mfrom\u001b[39;00m \u001b[38;5;21;01mpandas\u001b[39;00m\u001b[38;5;21;01m.\u001b[39;00m\u001b[38;5;21;01m_typing\u001b[39;00m \u001b[38;5;28;01mimport\u001b[39;00m F\n\u001b[1;32m---> 18\u001b[0m \u001b[38;5;28;01mfrom\u001b[39;00m \u001b[38;5;21;01mpandas\u001b[39;00m\u001b[38;5;21;01m.\u001b[39;00m\u001b[38;5;21;01mcompat\u001b[39;00m\u001b[38;5;21;01m.\u001b[39;00m\u001b[38;5;21;01mnumpy\u001b[39;00m \u001b[38;5;28;01mimport\u001b[39;00m (\n\u001b[0;32m     19\u001b[0m     is_numpy_dev,\n\u001b[0;32m     20\u001b[0m     np_version_under1p21,\n\u001b[0;32m     21\u001b[0m )\n\u001b[0;32m     22\u001b[0m \u001b[38;5;28;01mfrom\u001b[39;00m \u001b[38;5;21;01mpandas\u001b[39;00m\u001b[38;5;21;01m.\u001b[39;00m\u001b[38;5;21;01mcompat\u001b[39;00m\u001b[38;5;21;01m.\u001b[39;00m\u001b[38;5;21;01mpyarrow\u001b[39;00m \u001b[38;5;28;01mimport\u001b[39;00m (\n\u001b[0;32m     23\u001b[0m     pa_version_under1p01,\n\u001b[0;32m     24\u001b[0m     pa_version_under2p0,\n\u001b[1;32m   (...)\u001b[0m\n\u001b[0;32m     31\u001b[0m     pa_version_under9p0,\n\u001b[0;32m     32\u001b[0m )\n\u001b[0;32m     34\u001b[0m \u001b[38;5;28;01mif\u001b[39;00m TYPE_CHECKING:\n",
            "File \u001b[1;32m~\\AppData\\Local\\Packages\\PythonSoftwareFoundation.Python.3.11_qbz5n2kfra8p0\\LocalCache\\local-packages\\Python311\\site-packages\\pandas\\compat\\numpy\\__init__.py:4\u001b[0m, in \u001b[0;36m<module>\u001b[1;34m\u001b[0m\n\u001b[0;32m      1\u001b[0m \u001b[38;5;124;03m\"\"\" support numpy compatibility across versions \"\"\"\u001b[39;00m\n\u001b[0;32m      2\u001b[0m \u001b[38;5;28;01mimport\u001b[39;00m \u001b[38;5;21;01mnumpy\u001b[39;00m \u001b[38;5;28;01mas\u001b[39;00m \u001b[38;5;21;01mnp\u001b[39;00m\n\u001b[1;32m----> 4\u001b[0m \u001b[38;5;28;01mfrom\u001b[39;00m \u001b[38;5;21;01mpandas\u001b[39;00m\u001b[38;5;21;01m.\u001b[39;00m\u001b[38;5;21;01mutil\u001b[39;00m\u001b[38;5;21;01m.\u001b[39;00m\u001b[38;5;21;01mversion\u001b[39;00m \u001b[38;5;28;01mimport\u001b[39;00m Version\n\u001b[0;32m      6\u001b[0m \u001b[38;5;66;03m# numpy versioning\u001b[39;00m\n\u001b[0;32m      7\u001b[0m _np_version \u001b[38;5;241m=\u001b[39m np\u001b[38;5;241m.\u001b[39m__version__\n",
            "File \u001b[1;32m~\\AppData\\Local\\Packages\\PythonSoftwareFoundation.Python.3.11_qbz5n2kfra8p0\\LocalCache\\local-packages\\Python311\\site-packages\\pandas\\util\\__init__.py:2\u001b[0m, in \u001b[0;36m<module>\u001b[1;34m\u001b[0m\n\u001b[0;32m      1\u001b[0m \u001b[38;5;66;03m# pyright: reportUnusedImport = false\u001b[39;00m\n\u001b[1;32m----> 2\u001b[0m \u001b[38;5;28;01mfrom\u001b[39;00m \u001b[38;5;21;01mpandas\u001b[39;00m\u001b[38;5;21;01m.\u001b[39;00m\u001b[38;5;21;01mutil\u001b[39;00m\u001b[38;5;21;01m.\u001b[39;00m\u001b[38;5;21;01m_decorators\u001b[39;00m \u001b[38;5;28;01mimport\u001b[39;00m (  \u001b[38;5;66;03m# noqa:F401\u001b[39;00m\n\u001b[0;32m      3\u001b[0m     Appender,\n\u001b[0;32m      4\u001b[0m     Substitution,\n\u001b[0;32m      5\u001b[0m     cache_readonly,\n\u001b[0;32m      6\u001b[0m )\n\u001b[0;32m      8\u001b[0m \u001b[38;5;28;01mfrom\u001b[39;00m \u001b[38;5;21;01mpandas\u001b[39;00m\u001b[38;5;21;01m.\u001b[39;00m\u001b[38;5;21;01mcore\u001b[39;00m\u001b[38;5;21;01m.\u001b[39;00m\u001b[38;5;21;01mutil\u001b[39;00m\u001b[38;5;21;01m.\u001b[39;00m\u001b[38;5;21;01mhashing\u001b[39;00m \u001b[38;5;28;01mimport\u001b[39;00m (  \u001b[38;5;66;03m# noqa:F401\u001b[39;00m\n\u001b[0;32m      9\u001b[0m     hash_array,\n\u001b[0;32m     10\u001b[0m     hash_pandas_object,\n\u001b[0;32m     11\u001b[0m )\n\u001b[0;32m     14\u001b[0m \u001b[38;5;28;01mdef\u001b[39;00m \u001b[38;5;21m__getattr__\u001b[39m(name):\n",
            "File \u001b[1;32m~\\AppData\\Local\\Packages\\PythonSoftwareFoundation.Python.3.11_qbz5n2kfra8p0\\LocalCache\\local-packages\\Python311\\site-packages\\pandas\\util\\_decorators.py:14\u001b[0m, in \u001b[0;36m<module>\u001b[1;34m\u001b[0m\n\u001b[0;32m      6\u001b[0m \u001b[38;5;28;01mfrom\u001b[39;00m \u001b[38;5;21;01mtyping\u001b[39;00m \u001b[38;5;28;01mimport\u001b[39;00m (\n\u001b[0;32m      7\u001b[0m     Any,\n\u001b[0;32m      8\u001b[0m     Callable,\n\u001b[0;32m      9\u001b[0m     Mapping,\n\u001b[0;32m     10\u001b[0m     cast,\n\u001b[0;32m     11\u001b[0m )\n\u001b[0;32m     12\u001b[0m \u001b[38;5;28;01mimport\u001b[39;00m \u001b[38;5;21;01mwarnings\u001b[39;00m\n\u001b[1;32m---> 14\u001b[0m \u001b[38;5;28;01mfrom\u001b[39;00m \u001b[38;5;21;01mpandas\u001b[39;00m\u001b[38;5;21;01m.\u001b[39;00m\u001b[38;5;21;01m_libs\u001b[39;00m\u001b[38;5;21;01m.\u001b[39;00m\u001b[38;5;21;01mproperties\u001b[39;00m \u001b[38;5;28;01mimport\u001b[39;00m cache_readonly\n\u001b[0;32m     15\u001b[0m \u001b[38;5;28;01mfrom\u001b[39;00m \u001b[38;5;21;01mpandas\u001b[39;00m\u001b[38;5;21;01m.\u001b[39;00m\u001b[38;5;21;01m_typing\u001b[39;00m \u001b[38;5;28;01mimport\u001b[39;00m (\n\u001b[0;32m     16\u001b[0m     F,\n\u001b[0;32m     17\u001b[0m     T,\n\u001b[0;32m     18\u001b[0m )\n\u001b[0;32m     19\u001b[0m \u001b[38;5;28;01mfrom\u001b[39;00m \u001b[38;5;21;01mpandas\u001b[39;00m\u001b[38;5;21;01m.\u001b[39;00m\u001b[38;5;21;01mutil\u001b[39;00m\u001b[38;5;21;01m.\u001b[39;00m\u001b[38;5;21;01m_exceptions\u001b[39;00m \u001b[38;5;28;01mimport\u001b[39;00m find_stack_level\n",
            "File \u001b[1;32m~\\AppData\\Local\\Packages\\PythonSoftwareFoundation.Python.3.11_qbz5n2kfra8p0\\LocalCache\\local-packages\\Python311\\site-packages\\pandas\\_libs\\__init__.py:13\u001b[0m, in \u001b[0;36m<module>\u001b[1;34m\u001b[0m\n\u001b[0;32m      1\u001b[0m __all__ \u001b[38;5;241m=\u001b[39m [\n\u001b[0;32m      2\u001b[0m     \u001b[38;5;124m\"\u001b[39m\u001b[38;5;124mNaT\u001b[39m\u001b[38;5;124m\"\u001b[39m,\n\u001b[0;32m      3\u001b[0m     \u001b[38;5;124m\"\u001b[39m\u001b[38;5;124mNaTType\u001b[39m\u001b[38;5;124m\"\u001b[39m,\n\u001b[1;32m   (...)\u001b[0m\n\u001b[0;32m      9\u001b[0m     \u001b[38;5;124m\"\u001b[39m\u001b[38;5;124mInterval\u001b[39m\u001b[38;5;124m\"\u001b[39m,\n\u001b[0;32m     10\u001b[0m ]\n\u001b[1;32m---> 13\u001b[0m \u001b[38;5;28;01mfrom\u001b[39;00m \u001b[38;5;21;01mpandas\u001b[39;00m\u001b[38;5;21;01m.\u001b[39;00m\u001b[38;5;21;01m_libs\u001b[39;00m\u001b[38;5;21;01m.\u001b[39;00m\u001b[38;5;21;01minterval\u001b[39;00m \u001b[38;5;28;01mimport\u001b[39;00m Interval\n\u001b[0;32m     14\u001b[0m \u001b[38;5;28;01mfrom\u001b[39;00m \u001b[38;5;21;01mpandas\u001b[39;00m\u001b[38;5;21;01m.\u001b[39;00m\u001b[38;5;21;01m_libs\u001b[39;00m\u001b[38;5;21;01m.\u001b[39;00m\u001b[38;5;21;01mtslibs\u001b[39;00m \u001b[38;5;28;01mimport\u001b[39;00m (\n\u001b[0;32m     15\u001b[0m     NaT,\n\u001b[0;32m     16\u001b[0m     NaTType,\n\u001b[1;32m   (...)\u001b[0m\n\u001b[0;32m     21\u001b[0m     iNaT,\n\u001b[0;32m     22\u001b[0m )\n",
            "File \u001b[1;32m~\\AppData\\Local\\Packages\\PythonSoftwareFoundation.Python.3.11_qbz5n2kfra8p0\\LocalCache\\local-packages\\Python311\\site-packages\\pandas\\_libs\\interval.pyx:1\u001b[0m, in \u001b[0;36minit pandas._libs.interval\u001b[1;34m()\u001b[0m\n",
            "\u001b[1;31mValueError\u001b[0m: numpy.dtype size changed, may indicate binary incompatibility. Expected 96 from C header, got 88 from PyObject"
          ]
        }
      ],
      "source": [
        "import pandas as pd\n",
        "\n",
        "uri = \"https://gist.githubusercontent.com/guilhermesilveira/1b7d5475863c15f484ac495bd70975cf/raw/16aff7a0aee67e7c100a2a48b676a2d2d142f646/projects.csv\"\n",
        "dados = pd.read_csv(uri)\n",
        "dados.head()"
      ]
    },
    {
      "cell_type": "code",
      "execution_count": null,
      "metadata": {
        "colab": {
          "base_uri": "https://localhost:8080/",
          "height": 195
        },
        "colab_type": "code",
        "id": "aLrZflkd9_Sl",
        "outputId": "a42c788f-d490-405c-8595-5d54a51ca9cc"
      },
      "outputs": [],
      "source": [
        "a_renomear = {\n",
        "    'expected_hours' : 'horas_esperadas',\n",
        "    'price' : 'preco',\n",
        "    'unfinished' : 'nao_finalizado'\n",
        "}\n",
        "dados = dados.rename(columns = a_renomear)\n",
        "dados.head()\n"
      ]
    },
    {
      "cell_type": "code",
      "execution_count": null,
      "metadata": {
        "colab": {
          "base_uri": "https://localhost:8080/",
          "height": 195
        },
        "colab_type": "code",
        "id": "PodTBtMU-YV9",
        "outputId": "27a5c873-7deb-427b-9676-e39c7b0390f3"
      },
      "outputs": [],
      "source": [
        "troca = {\n",
        "    0 : 1,\n",
        "    1 : 0\n",
        "}\n",
        "dados['finalizado'] = dados.nao_finalizado.map(troca)\n",
        "dados.head()"
      ]
    },
    {
      "cell_type": "code",
      "execution_count": null,
      "metadata": {
        "colab": {
          "base_uri": "https://localhost:8080/",
          "height": 204
        },
        "colab_type": "code",
        "id": "Py9Bd_Tu-y95",
        "outputId": "d7396644-5b42-44d3-8aa0-e117253962a0"
      },
      "outputs": [],
      "source": [
        "dados.tail()"
      ]
    },
    {
      "cell_type": "code",
      "execution_count": null,
      "metadata": {
        "colab": {
          "base_uri": "https://localhost:8080/",
          "height": 301
        },
        "colab_type": "code",
        "id": "33GzY6HQ-1f9",
        "outputId": "343a59b9-8a55-4ce7-ef33-1a6f27db065a"
      },
      "outputs": [],
      "source": [
        "import seaborn as sns\n",
        "\n",
        "sns.scatterplot(x=\"horas_esperadas\", y=\"preco\", data=dados)"
      ]
    },
    {
      "cell_type": "code",
      "execution_count": null,
      "metadata": {
        "colab": {
          "base_uri": "https://localhost:8080/",
          "height": 301
        },
        "colab_type": "code",
        "id": "_A63fr-D_Mqm",
        "outputId": "718af594-578b-43d6-d6a3-fc91db425896"
      },
      "outputs": [],
      "source": [
        "sns.scatterplot(x=\"horas_esperadas\", y=\"preco\", hue=\"finalizado\", data=dados)\n"
      ]
    },
    {
      "cell_type": "code",
      "execution_count": null,
      "metadata": {
        "colab": {
          "base_uri": "https://localhost:8080/",
          "height": 386
        },
        "colab_type": "code",
        "id": "PeX48W-I_0fH",
        "outputId": "45ed9925-e04d-4fb4-ef30-c711068fd0ca"
      },
      "outputs": [],
      "source": [
        "sns.relplot(x=\"horas_esperadas\", y=\"preco\", hue=\"finalizado\", col=\"finalizado\", data=dados)"
      ]
    },
    {
      "cell_type": "code",
      "execution_count": null,
      "metadata": {
        "colab": {},
        "colab_type": "code",
        "id": "hYk1PNV6ADW7"
      },
      "outputs": [],
      "source": [
        "x = dados[['horas_esperadas', 'preco']]\n",
        "y = dados['finalizado']"
      ]
    },
    {
      "cell_type": "code",
      "execution_count": null,
      "metadata": {
        "colab": {
          "base_uri": "https://localhost:8080/",
          "height": 51
        },
        "colab_type": "code",
        "id": "6dOSVaxdAWPu",
        "outputId": "af595ff5-7e43-4206-fdc9-347f6732d6a9"
      },
      "outputs": [],
      "source": [
        "from sklearn.model_selection import train_test_split\n",
        "from sklearn.svm import LinearSVC\n",
        "from sklearn.metrics import accuracy_score\n",
        "\n",
        "SEED = 20\n",
        "\n",
        "treino_x, teste_x, treino_y, teste_y = train_test_split(x, y,\n",
        "                                                         random_state = SEED, test_size = 0.25,\n",
        "                                                         stratify = y)\n",
        "print(\"Treinaremos com %d elementos e testaremos com %d elementos\" % (len(treino_x), len(teste_x)))\n",
        "\n",
        "modelo = LinearSVC()\n",
        "modelo.fit(treino_x, treino_y)\n",
        "previsoes = modelo.predict(teste_x)\n",
        "\n",
        "acuracia = accuracy_score(teste_y, previsoes) * 100\n",
        "print(\"A acurácia foi %.2f%%\" % acuracia)"
      ]
    },
    {
      "cell_type": "code",
      "execution_count": null,
      "metadata": {
        "colab": {
          "base_uri": "https://localhost:8080/",
          "height": 34
        },
        "colab_type": "code",
        "id": "wMzL65QUAkYP",
        "outputId": "31ad4e12-86ea-4d53-f39e-3f9bcd37b3fd"
      },
      "outputs": [],
      "source": [
        "import numpy as np\n",
        "previsoes_de_base = np.ones(540)\n",
        "acuracia = accuracy_score(teste_y, previsoes_de_base) * 100\n",
        "print(\"A acurácia do algoritmo de baseline foi %.2f%%\" % acuracia)"
      ]
    },
    {
      "cell_type": "code",
      "execution_count": null,
      "metadata": {
        "colab": {},
        "colab_type": "code",
        "id": "xuQMaARDBARk"
      },
      "outputs": [],
      "source": []
    }
  ],
  "metadata": {
    "colab": {
      "collapsed_sections": [],
      "name": "Introdução a Machine Learning 3.ipynb",
      "provenance": [],
      "version": "0.3.2"
    },
    "kernelspec": {
      "display_name": "Python 3",
      "name": "python3"
    },
    "language_info": {
      "codemirror_mode": {
        "name": "ipython",
        "version": 3
      },
      "file_extension": ".py",
      "mimetype": "text/x-python",
      "name": "python",
      "nbconvert_exporter": "python",
      "pygments_lexer": "ipython3",
      "version": "3.11.9"
    }
  },
  "nbformat": 4,
  "nbformat_minor": 0
}
